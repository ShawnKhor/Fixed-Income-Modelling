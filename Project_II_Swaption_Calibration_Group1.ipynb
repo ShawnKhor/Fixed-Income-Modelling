{
 "cells": [
  {
   "cell_type": "code",
   "id": "initial_id",
   "metadata": {
    "ExecuteTime": {
     "end_time": "2024-04-10T17:09:56.280851Z",
     "start_time": "2024-04-10T17:09:54.288934Z"
    }
   },
   "source": [
    "import pandas as pd\n",
    "import numpy as np\n",
    "import matplotlib.pyplot as plt\n",
    "\n",
    "from scipy.optimize import brentq, fsolve, least_squares\n",
    "from scipy.interpolate import interp2d\n",
    "from scipy.integrate import quad\n",
    "from scipy.stats import norm\n",
    "\n",
    "import warnings\n",
    "warnings.filterwarnings('ignore')"
   ],
   "outputs": [],
   "execution_count": 1
  },
  {
   "cell_type": "code",
   "id": "92d8b29b855d27af",
   "metadata": {
    "ExecuteTime": {
     "end_time": "2024-04-10T17:09:56.907959Z",
     "start_time": "2024-04-10T17:09:56.282032Z"
    }
   },
   "source": [
    "ois_disc_factor = pd.read_excel('Data_1_Output.xlsx', sheet_name='oisDiscFactors')['DiscountFactor']\n",
    "fwd_swap_rates = pd.read_excel('Data_1_Output.xlsx', sheet_name='fwdSwapRates')"
   ],
   "outputs": [],
   "execution_count": 2
  },
  {
   "cell_type": "code",
   "id": "a5c24be65c0fe0d7",
   "metadata": {
    "ExecuteTime": {
     "end_time": "2024-04-10T17:09:57.022168Z",
     "start_time": "2024-04-10T17:09:56.910029Z"
    }
   },
   "source": [
    "### Reading and cleaning swaption mkt data\n",
    "swaption_data = pd.read_excel(\"IR Data.xlsx\", sheet_name='Swaption', header =2)\n",
    "\n",
    "# Change to pct\n",
    "swaption_data.iloc[:, 2:] = swaption_data.iloc[:, 2:]/100\n",
    "\n",
    "swaption_data"
   ],
   "outputs": [
    {
     "data": {
      "text/plain": [
       "   Expiry Tenor  -200bps  -150bps  -100bps   -50bps   -25bps     ATM  +25bps  \\\n",
       "0      1Y    1Y  0.91570  0.62030  0.44130  0.31224  0.26182  0.2250  0.2096   \n",
       "1      1Y    2Y  0.83270  0.61240  0.46570  0.35807  0.31712  0.2872  0.2712   \n",
       "2      1Y    3Y  0.73920  0.56870  0.44770  0.35745  0.32317  0.2978  0.2829   \n",
       "3      1Y    5Y  0.55190  0.44640  0.36510  0.30242  0.27851  0.2607  0.2498   \n",
       "4      1Y   10Y  0.41180  0.35040  0.30207  0.26619  0.25351  0.2447  0.2398   \n",
       "5      5Y    1Y  0.67800  0.49090  0.38400  0.31485  0.29060  0.2726  0.2604   \n",
       "6      5Y    2Y  0.57880  0.46410  0.39033  0.33653  0.31531  0.2983  0.2856   \n",
       "7      5Y    3Y  0.53430  0.44440  0.38180  0.33437  0.31536  0.2998  0.2876   \n",
       "8      5Y    5Y  0.41990  0.36524  0.32326  0.29005  0.27677  0.2660  0.2573   \n",
       "9      5Y   10Y  0.34417  0.30948  0.28148  0.25954  0.25136  0.2451  0.2399   \n",
       "10    10Y    1Y  0.55160  0.44320  0.37368  0.32259  0.30210  0.2854  0.2731   \n",
       "11    10Y    2Y  0.51170  0.42900  0.37078  0.32622  0.30800  0.2928  0.2809   \n",
       "12    10Y    3Y  0.48220  0.41430  0.36400  0.32439  0.30796  0.2940  0.2827   \n",
       "13    10Y    5Y  0.40550  0.35891  0.32181  0.29144  0.27857  0.2674  0.2580   \n",
       "14    10Y   10Y  0.33601  0.30509  0.27978  0.25926  0.25086  0.2437  0.2376   \n",
       "\n",
       "    +50bps  +100bps  +150bps  +200bps  \n",
       "0   0.2140   0.2434  0.27488  0.30297  \n",
       "1   0.2684   0.2851  0.31025  0.33523  \n",
       "2   0.2780   0.2877  0.30725  0.32833  \n",
       "3   0.2456   0.2512  0.26536  0.28165  \n",
       "4   0.2382   0.2425  0.25204  0.26355  \n",
       "5   0.2532   0.2494  0.25320  0.25980  \n",
       "6   0.2765   0.2671  0.26540  0.26760  \n",
       "7   0.2782   0.2667  0.26200  0.26150  \n",
       "8   0.2502   0.2406  0.23570  0.23400  \n",
       "9   0.2356   0.2291  0.22490  0.22250  \n",
       "10  0.2645   0.2561  0.25520  0.25780  \n",
       "11  0.2720   0.2612  0.25720  0.25710  \n",
       "12  0.2738   0.2618  0.25580  0.25370  \n",
       "13  0.2502   0.2387  0.23170  0.22800  \n",
       "14  0.2324   0.2244  0.21900  0.21560  "
      ],
      "text/html": [
       "<div>\n",
       "<style scoped>\n",
       "    .dataframe tbody tr th:only-of-type {\n",
       "        vertical-align: middle;\n",
       "    }\n",
       "\n",
       "    .dataframe tbody tr th {\n",
       "        vertical-align: top;\n",
       "    }\n",
       "\n",
       "    .dataframe thead th {\n",
       "        text-align: right;\n",
       "    }\n",
       "</style>\n",
       "<table border=\"1\" class=\"dataframe\">\n",
       "  <thead>\n",
       "    <tr style=\"text-align: right;\">\n",
       "      <th></th>\n",
       "      <th>Expiry</th>\n",
       "      <th>Tenor</th>\n",
       "      <th>-200bps</th>\n",
       "      <th>-150bps</th>\n",
       "      <th>-100bps</th>\n",
       "      <th>-50bps</th>\n",
       "      <th>-25bps</th>\n",
       "      <th>ATM</th>\n",
       "      <th>+25bps</th>\n",
       "      <th>+50bps</th>\n",
       "      <th>+100bps</th>\n",
       "      <th>+150bps</th>\n",
       "      <th>+200bps</th>\n",
       "    </tr>\n",
       "  </thead>\n",
       "  <tbody>\n",
       "    <tr>\n",
       "      <th>0</th>\n",
       "      <td>1Y</td>\n",
       "      <td>1Y</td>\n",
       "      <td>0.91570</td>\n",
       "      <td>0.62030</td>\n",
       "      <td>0.44130</td>\n",
       "      <td>0.31224</td>\n",
       "      <td>0.26182</td>\n",
       "      <td>0.2250</td>\n",
       "      <td>0.2096</td>\n",
       "      <td>0.2140</td>\n",
       "      <td>0.2434</td>\n",
       "      <td>0.27488</td>\n",
       "      <td>0.30297</td>\n",
       "    </tr>\n",
       "    <tr>\n",
       "      <th>1</th>\n",
       "      <td>1Y</td>\n",
       "      <td>2Y</td>\n",
       "      <td>0.83270</td>\n",
       "      <td>0.61240</td>\n",
       "      <td>0.46570</td>\n",
       "      <td>0.35807</td>\n",
       "      <td>0.31712</td>\n",
       "      <td>0.2872</td>\n",
       "      <td>0.2712</td>\n",
       "      <td>0.2684</td>\n",
       "      <td>0.2851</td>\n",
       "      <td>0.31025</td>\n",
       "      <td>0.33523</td>\n",
       "    </tr>\n",
       "    <tr>\n",
       "      <th>2</th>\n",
       "      <td>1Y</td>\n",
       "      <td>3Y</td>\n",
       "      <td>0.73920</td>\n",
       "      <td>0.56870</td>\n",
       "      <td>0.44770</td>\n",
       "      <td>0.35745</td>\n",
       "      <td>0.32317</td>\n",
       "      <td>0.2978</td>\n",
       "      <td>0.2829</td>\n",
       "      <td>0.2780</td>\n",
       "      <td>0.2877</td>\n",
       "      <td>0.30725</td>\n",
       "      <td>0.32833</td>\n",
       "    </tr>\n",
       "    <tr>\n",
       "      <th>3</th>\n",
       "      <td>1Y</td>\n",
       "      <td>5Y</td>\n",
       "      <td>0.55190</td>\n",
       "      <td>0.44640</td>\n",
       "      <td>0.36510</td>\n",
       "      <td>0.30242</td>\n",
       "      <td>0.27851</td>\n",
       "      <td>0.2607</td>\n",
       "      <td>0.2498</td>\n",
       "      <td>0.2456</td>\n",
       "      <td>0.2512</td>\n",
       "      <td>0.26536</td>\n",
       "      <td>0.28165</td>\n",
       "    </tr>\n",
       "    <tr>\n",
       "      <th>4</th>\n",
       "      <td>1Y</td>\n",
       "      <td>10Y</td>\n",
       "      <td>0.41180</td>\n",
       "      <td>0.35040</td>\n",
       "      <td>0.30207</td>\n",
       "      <td>0.26619</td>\n",
       "      <td>0.25351</td>\n",
       "      <td>0.2447</td>\n",
       "      <td>0.2398</td>\n",
       "      <td>0.2382</td>\n",
       "      <td>0.2425</td>\n",
       "      <td>0.25204</td>\n",
       "      <td>0.26355</td>\n",
       "    </tr>\n",
       "    <tr>\n",
       "      <th>5</th>\n",
       "      <td>5Y</td>\n",
       "      <td>1Y</td>\n",
       "      <td>0.67800</td>\n",
       "      <td>0.49090</td>\n",
       "      <td>0.38400</td>\n",
       "      <td>0.31485</td>\n",
       "      <td>0.29060</td>\n",
       "      <td>0.2726</td>\n",
       "      <td>0.2604</td>\n",
       "      <td>0.2532</td>\n",
       "      <td>0.2494</td>\n",
       "      <td>0.25320</td>\n",
       "      <td>0.25980</td>\n",
       "    </tr>\n",
       "    <tr>\n",
       "      <th>6</th>\n",
       "      <td>5Y</td>\n",
       "      <td>2Y</td>\n",
       "      <td>0.57880</td>\n",
       "      <td>0.46410</td>\n",
       "      <td>0.39033</td>\n",
       "      <td>0.33653</td>\n",
       "      <td>0.31531</td>\n",
       "      <td>0.2983</td>\n",
       "      <td>0.2856</td>\n",
       "      <td>0.2765</td>\n",
       "      <td>0.2671</td>\n",
       "      <td>0.26540</td>\n",
       "      <td>0.26760</td>\n",
       "    </tr>\n",
       "    <tr>\n",
       "      <th>7</th>\n",
       "      <td>5Y</td>\n",
       "      <td>3Y</td>\n",
       "      <td>0.53430</td>\n",
       "      <td>0.44440</td>\n",
       "      <td>0.38180</td>\n",
       "      <td>0.33437</td>\n",
       "      <td>0.31536</td>\n",
       "      <td>0.2998</td>\n",
       "      <td>0.2876</td>\n",
       "      <td>0.2782</td>\n",
       "      <td>0.2667</td>\n",
       "      <td>0.26200</td>\n",
       "      <td>0.26150</td>\n",
       "    </tr>\n",
       "    <tr>\n",
       "      <th>8</th>\n",
       "      <td>5Y</td>\n",
       "      <td>5Y</td>\n",
       "      <td>0.41990</td>\n",
       "      <td>0.36524</td>\n",
       "      <td>0.32326</td>\n",
       "      <td>0.29005</td>\n",
       "      <td>0.27677</td>\n",
       "      <td>0.2660</td>\n",
       "      <td>0.2573</td>\n",
       "      <td>0.2502</td>\n",
       "      <td>0.2406</td>\n",
       "      <td>0.23570</td>\n",
       "      <td>0.23400</td>\n",
       "    </tr>\n",
       "    <tr>\n",
       "      <th>9</th>\n",
       "      <td>5Y</td>\n",
       "      <td>10Y</td>\n",
       "      <td>0.34417</td>\n",
       "      <td>0.30948</td>\n",
       "      <td>0.28148</td>\n",
       "      <td>0.25954</td>\n",
       "      <td>0.25136</td>\n",
       "      <td>0.2451</td>\n",
       "      <td>0.2399</td>\n",
       "      <td>0.2356</td>\n",
       "      <td>0.2291</td>\n",
       "      <td>0.22490</td>\n",
       "      <td>0.22250</td>\n",
       "    </tr>\n",
       "    <tr>\n",
       "      <th>10</th>\n",
       "      <td>10Y</td>\n",
       "      <td>1Y</td>\n",
       "      <td>0.55160</td>\n",
       "      <td>0.44320</td>\n",
       "      <td>0.37368</td>\n",
       "      <td>0.32259</td>\n",
       "      <td>0.30210</td>\n",
       "      <td>0.2854</td>\n",
       "      <td>0.2731</td>\n",
       "      <td>0.2645</td>\n",
       "      <td>0.2561</td>\n",
       "      <td>0.25520</td>\n",
       "      <td>0.25780</td>\n",
       "    </tr>\n",
       "    <tr>\n",
       "      <th>11</th>\n",
       "      <td>10Y</td>\n",
       "      <td>2Y</td>\n",
       "      <td>0.51170</td>\n",
       "      <td>0.42900</td>\n",
       "      <td>0.37078</td>\n",
       "      <td>0.32622</td>\n",
       "      <td>0.30800</td>\n",
       "      <td>0.2928</td>\n",
       "      <td>0.2809</td>\n",
       "      <td>0.2720</td>\n",
       "      <td>0.2612</td>\n",
       "      <td>0.25720</td>\n",
       "      <td>0.25710</td>\n",
       "    </tr>\n",
       "    <tr>\n",
       "      <th>12</th>\n",
       "      <td>10Y</td>\n",
       "      <td>3Y</td>\n",
       "      <td>0.48220</td>\n",
       "      <td>0.41430</td>\n",
       "      <td>0.36400</td>\n",
       "      <td>0.32439</td>\n",
       "      <td>0.30796</td>\n",
       "      <td>0.2940</td>\n",
       "      <td>0.2827</td>\n",
       "      <td>0.2738</td>\n",
       "      <td>0.2618</td>\n",
       "      <td>0.25580</td>\n",
       "      <td>0.25370</td>\n",
       "    </tr>\n",
       "    <tr>\n",
       "      <th>13</th>\n",
       "      <td>10Y</td>\n",
       "      <td>5Y</td>\n",
       "      <td>0.40550</td>\n",
       "      <td>0.35891</td>\n",
       "      <td>0.32181</td>\n",
       "      <td>0.29144</td>\n",
       "      <td>0.27857</td>\n",
       "      <td>0.2674</td>\n",
       "      <td>0.2580</td>\n",
       "      <td>0.2502</td>\n",
       "      <td>0.2387</td>\n",
       "      <td>0.23170</td>\n",
       "      <td>0.22800</td>\n",
       "    </tr>\n",
       "    <tr>\n",
       "      <th>14</th>\n",
       "      <td>10Y</td>\n",
       "      <td>10Y</td>\n",
       "      <td>0.33601</td>\n",
       "      <td>0.30509</td>\n",
       "      <td>0.27978</td>\n",
       "      <td>0.25926</td>\n",
       "      <td>0.25086</td>\n",
       "      <td>0.2437</td>\n",
       "      <td>0.2376</td>\n",
       "      <td>0.2324</td>\n",
       "      <td>0.2244</td>\n",
       "      <td>0.21900</td>\n",
       "      <td>0.21560</td>\n",
       "    </tr>\n",
       "  </tbody>\n",
       "</table>\n",
       "</div>"
      ]
     },
     "execution_count": 3,
     "metadata": {},
     "output_type": "execute_result"
    }
   ],
   "execution_count": 3
  },
  {
   "cell_type": "code",
   "id": "528f3512ec45ee1",
   "metadata": {
    "ExecuteTime": {
     "end_time": "2024-04-10T17:09:57.035125Z",
     "start_time": "2024-04-10T17:09:57.028149Z"
    }
   },
   "source": [
    "libor_forward_rate = fwd_swap_rates[\"liborForwardSwapRate\"]"
   ],
   "outputs": [],
   "execution_count": 4
  },
  {
   "cell_type": "code",
   "id": "4799b0045407fb6b",
   "metadata": {
    "ExecuteTime": {
     "end_time": "2024-04-10T17:09:57.065027Z",
     "start_time": "2024-04-10T17:09:57.040108Z"
    }
   },
   "source": [
    "date_count_df = fwd_swap_rates[['Start','Tenor']]\n",
    "date_count_df = date_count_df.apply(lambda x: x.str.rstrip('Y')).copy()\n",
    "date_count_df"
   ],
   "outputs": [
    {
     "data": {
      "text/plain": [
       "   Start Tenor\n",
       "0      1     1\n",
       "1      1     2\n",
       "2      1     3\n",
       "3      1     5\n",
       "4      1    10\n",
       "5      5     1\n",
       "6      5     2\n",
       "7      5     3\n",
       "8      5     5\n",
       "9      5    10\n",
       "10    10     1\n",
       "11    10     2\n",
       "12    10     3\n",
       "13    10     5\n",
       "14    10    10"
      ],
      "text/html": [
       "<div>\n",
       "<style scoped>\n",
       "    .dataframe tbody tr th:only-of-type {\n",
       "        vertical-align: middle;\n",
       "    }\n",
       "\n",
       "    .dataframe tbody tr th {\n",
       "        vertical-align: top;\n",
       "    }\n",
       "\n",
       "    .dataframe thead th {\n",
       "        text-align: right;\n",
       "    }\n",
       "</style>\n",
       "<table border=\"1\" class=\"dataframe\">\n",
       "  <thead>\n",
       "    <tr style=\"text-align: right;\">\n",
       "      <th></th>\n",
       "      <th>Start</th>\n",
       "      <th>Tenor</th>\n",
       "    </tr>\n",
       "  </thead>\n",
       "  <tbody>\n",
       "    <tr>\n",
       "      <th>0</th>\n",
       "      <td>1</td>\n",
       "      <td>1</td>\n",
       "    </tr>\n",
       "    <tr>\n",
       "      <th>1</th>\n",
       "      <td>1</td>\n",
       "      <td>2</td>\n",
       "    </tr>\n",
       "    <tr>\n",
       "      <th>2</th>\n",
       "      <td>1</td>\n",
       "      <td>3</td>\n",
       "    </tr>\n",
       "    <tr>\n",
       "      <th>3</th>\n",
       "      <td>1</td>\n",
       "      <td>5</td>\n",
       "    </tr>\n",
       "    <tr>\n",
       "      <th>4</th>\n",
       "      <td>1</td>\n",
       "      <td>10</td>\n",
       "    </tr>\n",
       "    <tr>\n",
       "      <th>5</th>\n",
       "      <td>5</td>\n",
       "      <td>1</td>\n",
       "    </tr>\n",
       "    <tr>\n",
       "      <th>6</th>\n",
       "      <td>5</td>\n",
       "      <td>2</td>\n",
       "    </tr>\n",
       "    <tr>\n",
       "      <th>7</th>\n",
       "      <td>5</td>\n",
       "      <td>3</td>\n",
       "    </tr>\n",
       "    <tr>\n",
       "      <th>8</th>\n",
       "      <td>5</td>\n",
       "      <td>5</td>\n",
       "    </tr>\n",
       "    <tr>\n",
       "      <th>9</th>\n",
       "      <td>5</td>\n",
       "      <td>10</td>\n",
       "    </tr>\n",
       "    <tr>\n",
       "      <th>10</th>\n",
       "      <td>10</td>\n",
       "      <td>1</td>\n",
       "    </tr>\n",
       "    <tr>\n",
       "      <th>11</th>\n",
       "      <td>10</td>\n",
       "      <td>2</td>\n",
       "    </tr>\n",
       "    <tr>\n",
       "      <th>12</th>\n",
       "      <td>10</td>\n",
       "      <td>3</td>\n",
       "    </tr>\n",
       "    <tr>\n",
       "      <th>13</th>\n",
       "      <td>10</td>\n",
       "      <td>5</td>\n",
       "    </tr>\n",
       "    <tr>\n",
       "      <th>14</th>\n",
       "      <td>10</td>\n",
       "      <td>10</td>\n",
       "    </tr>\n",
       "  </tbody>\n",
       "</table>\n",
       "</div>"
      ]
     },
     "execution_count": 5,
     "metadata": {},
     "output_type": "execute_result"
    }
   ],
   "execution_count": 5
  },
  {
   "cell_type": "code",
   "id": "faa49e296e307083",
   "metadata": {
    "ExecuteTime": {
     "end_time": "2024-04-10T17:09:57.096596Z",
     "start_time": "2024-04-10T17:09:57.068018Z"
    }
   },
   "source": [
    "pvbp = []\n",
    "for i in range(len(date_count_df)):\n",
    "    expiry = date_count_df['Start'][i]\n",
    "    T = date_count_df['Tenor'][i]\n",
    "    \n",
    "    pvbp.append(0.5 * sum(ois_disc_factor[2*int(expiry): (int(expiry)+int(T))*2]))\n",
    "pd.DataFrame(pvbp)"
   ],
   "outputs": [
    {
     "data": {
      "text/plain": [
       "           0\n",
       "0   0.996139\n",
       "1   1.988791\n",
       "2   2.977832\n",
       "3   4.943924\n",
       "4   9.771149\n",
       "5   0.980959\n",
       "6   1.957022\n",
       "7   2.928051\n",
       "8   4.853642\n",
       "9   9.569368\n",
       "10  0.954542\n",
       "11  1.903351\n",
       "12  2.846462\n",
       "13  4.715726\n",
       "14  9.291511"
      ],
      "text/html": [
       "<div>\n",
       "<style scoped>\n",
       "    .dataframe tbody tr th:only-of-type {\n",
       "        vertical-align: middle;\n",
       "    }\n",
       "\n",
       "    .dataframe tbody tr th {\n",
       "        vertical-align: top;\n",
       "    }\n",
       "\n",
       "    .dataframe thead th {\n",
       "        text-align: right;\n",
       "    }\n",
       "</style>\n",
       "<table border=\"1\" class=\"dataframe\">\n",
       "  <thead>\n",
       "    <tr style=\"text-align: right;\">\n",
       "      <th></th>\n",
       "      <th>0</th>\n",
       "    </tr>\n",
       "  </thead>\n",
       "  <tbody>\n",
       "    <tr>\n",
       "      <th>0</th>\n",
       "      <td>0.996139</td>\n",
       "    </tr>\n",
       "    <tr>\n",
       "      <th>1</th>\n",
       "      <td>1.988791</td>\n",
       "    </tr>\n",
       "    <tr>\n",
       "      <th>2</th>\n",
       "      <td>2.977832</td>\n",
       "    </tr>\n",
       "    <tr>\n",
       "      <th>3</th>\n",
       "      <td>4.943924</td>\n",
       "    </tr>\n",
       "    <tr>\n",
       "      <th>4</th>\n",
       "      <td>9.771149</td>\n",
       "    </tr>\n",
       "    <tr>\n",
       "      <th>5</th>\n",
       "      <td>0.980959</td>\n",
       "    </tr>\n",
       "    <tr>\n",
       "      <th>6</th>\n",
       "      <td>1.957022</td>\n",
       "    </tr>\n",
       "    <tr>\n",
       "      <th>7</th>\n",
       "      <td>2.928051</td>\n",
       "    </tr>\n",
       "    <tr>\n",
       "      <th>8</th>\n",
       "      <td>4.853642</td>\n",
       "    </tr>\n",
       "    <tr>\n",
       "      <th>9</th>\n",
       "      <td>9.569368</td>\n",
       "    </tr>\n",
       "    <tr>\n",
       "      <th>10</th>\n",
       "      <td>0.954542</td>\n",
       "    </tr>\n",
       "    <tr>\n",
       "      <th>11</th>\n",
       "      <td>1.903351</td>\n",
       "    </tr>\n",
       "    <tr>\n",
       "      <th>12</th>\n",
       "      <td>2.846462</td>\n",
       "    </tr>\n",
       "    <tr>\n",
       "      <th>13</th>\n",
       "      <td>4.715726</td>\n",
       "    </tr>\n",
       "    <tr>\n",
       "      <th>14</th>\n",
       "      <td>9.291511</td>\n",
       "    </tr>\n",
       "  </tbody>\n",
       "</table>\n",
       "</div>"
      ]
     },
     "execution_count": 6,
     "metadata": {},
     "output_type": "execute_result"
    }
   ],
   "execution_count": 6
  },
  {
   "cell_type": "code",
   "id": "607643059ce293f3",
   "metadata": {
    "ExecuteTime": {
     "end_time": "2024-04-10T17:09:57.112543Z",
     "start_time": "2024-04-10T17:09:57.100583Z"
    }
   },
   "source": [
    "bps = np.array([-0.02, -0.015, -0.01, -0.005, -0.0025, 0, 0.0025, 0.005, 0.01, 0.015, 0.02])\n",
    "\n",
    "strike = []\n",
    "for i in range(len(libor_forward_rate)):\n",
    "    strike.append(libor_forward_rate[i] + bps)"
   ],
   "outputs": [],
   "execution_count": 7
  },
  {
   "cell_type": "markdown",
   "id": "1fc312dd3d97f165",
   "metadata": {},
   "source": [
    "### Black Call Function"
   ]
  },
  {
   "cell_type": "code",
   "id": "93f3a1bd6d2bc3d7",
   "metadata": {
    "ExecuteTime": {
     "end_time": "2024-04-10T17:09:57.143769Z",
     "start_time": "2024-04-10T17:09:57.121513Z"
    }
   },
   "source": [
    "def calculateBlackCall(S, K, T, sigma, pvbp):\n",
    "    d1 = (np.log(S/K)+ 0.5*(sigma**2)*T) / (sigma*np.sqrt(T))\n",
    "    d2 = d1 - sigma*np.sqrt(T)\n",
    "    blackCallPrice = pvbp * (S*norm.cdf(d1) - K*norm.cdf(d2))\n",
    "    return blackCallPrice"
   ],
   "outputs": [],
   "execution_count": null
  },
  {
   "cell_type": "markdown",
   "id": "72afb624e2275828",
   "metadata": {},
   "source": [
    "### Black Put Function"
   ]
  },
  {
   "cell_type": "code",
   "id": "af6f8d9865a06859",
   "metadata": {
    "ExecuteTime": {
     "end_time": "2024-04-10T17:09:57.158721Z",
     "start_time": "2024-04-10T17:09:57.148752Z"
    }
   },
   "source": [
    "def calculateBlackPut(S, K, T, sigma, pvbp):\n",
    "    d1 = (np.log(S/K)+0.5*(sigma**2)*T) / (sigma*np.sqrt(T))\n",
    "    d2 = d1 - sigma*np.sqrt(T)\n",
    "    blackPutPrice = pvbp * (K*norm.cdf(-d2) - S*norm.cdf(-d1))\n",
    "    return blackPutPrice"
   ],
   "outputs": [],
   "execution_count": 9
  },
  {
   "cell_type": "markdown",
   "id": "df6eca21b846437",
   "metadata": {},
   "source": [
    "### DD Call Function"
   ]
  },
  {
   "cell_type": "code",
   "id": "52bd4a76aa13d302",
   "metadata": {
    "ExecuteTime": {
     "end_time": "2024-04-10T17:09:57.174180Z",
     "start_time": "2024-04-10T17:09:57.161711Z"
    }
   },
   "source": [
    "def calculateDDCall(S, K, T, pvbp, sigma, beta):\n",
    "    S_d = S/beta\n",
    "    K_d = K + ((1-beta)/beta)*S\n",
    "    sigma_d = sigma*beta\n",
    "    ddCallPrice = calculateBlackCall(S_d, K_d, T, sigma_d, pvbp)\n",
    "    return ddCallPrice"
   ],
   "outputs": [],
   "execution_count": 10
  },
  {
   "cell_type": "markdown",
   "id": "b6e21dd3d530317a",
   "metadata": {},
   "source": [
    "### DD Put Function"
   ]
  },
  {
   "cell_type": "code",
   "id": "5c0526bf751a9e41",
   "metadata": {
    "ExecuteTime": {
     "end_time": "2024-04-10T17:09:57.190127Z",
     "start_time": "2024-04-10T17:09:57.180160Z"
    }
   },
   "source": [
    "def calculateDDPut(S, K, T, pvbp, sigma, beta):\n",
    "    S_d = S/beta\n",
    "    K_d = K + ((1-beta)/beta)*S\n",
    "    sigma_d = sigma*beta\n",
    "    ddPutPrice = calculateBlackPut(S_d, K_d, T, sigma_d, pvbp)\n",
    "    return ddPutPrice"
   ],
   "outputs": [],
   "execution_count": 11
  },
  {
   "cell_type": "markdown",
   "id": "1527826663c327e4",
   "metadata": {},
   "source": [
    "### Calculate DD volatility"
   ]
  },
  {
   "cell_type": "code",
   "id": "eebc14c34e0e300c",
   "metadata": {
    "ExecuteTime": {
     "end_time": "2024-04-10T17:09:57.221231Z",
     "start_time": "2024-04-10T17:09:57.199097Z"
    }
   },
   "source": [
    "def DDvolatility(F, K, pvbp, T, sigma, beta):\n",
    "    if F <= K:\n",
    "        price = calculateDDCall(F, K, T, pvbp, sigma, beta)\n",
    "        vol = fsolve(lambda x: price - calculateBlackCall(F, K, T, x, pvbp), 0.5)\n",
    "\n",
    "    else:\n",
    "        price = calculateDDPut(F, K, T, pvbp, sigma, beta)\n",
    "        vol = fsolve(lambda x: price - calculateBlackPut(F, K, T, x, pvbp), 0.5)\n",
    "\n",
    "    return vol[0]"
   ],
   "outputs": [],
   "execution_count": 12
  },
  {
   "cell_type": "markdown",
   "id": "e943ff71122ab56b",
   "metadata": {},
   "source": [
    "### Calculate DD calibration"
   ]
  },
  {
   "cell_type": "code",
   "id": "344ca12abc1edf27",
   "metadata": {
    "ExecuteTime": {
     "end_time": "2024-04-10T17:09:57.236181Z",
     "start_time": "2024-04-10T17:09:57.223225Z"
    }
   },
   "source": [
    "def DDcalibration(x, K, vols, pvbp, F, T):\n",
    "    err = 0.0\n",
    "    sigma = vols[5]\n",
    "\n",
    "    for i, vol in enumerate(vols):\n",
    "        err += (vol - DDvolatility(F, K[i], pvbp, T, sigma, x))**2\n",
    "\n",
    "    return err"
   ],
   "outputs": [],
   "execution_count": 13
  },
  {
   "cell_type": "markdown",
   "id": "fdc8dd747fd71b60",
   "metadata": {},
   "source": [
    "### Compute Sigma and Beta values"
   ]
  },
  {
   "cell_type": "code",
   "id": "22678a4d5a5f3e00",
   "metadata": {
    "ExecuteTime": {
     "end_time": "2024-04-10T17:10:03.323225Z",
     "start_time": "2024-04-10T17:09:57.238175Z"
    }
   },
   "source": [
    "start = date_count_df.Start\n",
    "tenor = date_count_df.Tenor\n",
    "\n",
    "beta_results = []\n",
    "initial_guess = [0.3]\n",
    "\n",
    "for i in range(len(pvbp)):\n",
    "    results = least_squares(lambda x: DDcalibration(x, strike[i], swaption_data.values[i][2:],\n",
    "                                                    pvbp[i], libor_forward_rate[i], T = int(start[i])),\n",
    "                            initial_guess, bounds = ([0,1]))\n",
    "\n",
    "    beta_results.append(results.x[0])"
   ],
   "outputs": [],
   "execution_count": 14
  },
  {
   "cell_type": "code",
   "id": "168ad705a569ae38",
   "metadata": {
    "ExecuteTime": {
     "end_time": "2024-04-10T17:10:03.354248Z",
     "start_time": "2024-04-10T17:10:03.325219Z"
    }
   },
   "source": [
    "sigma_beta_df = pd.concat([pd.DataFrame(swaption_data.iloc[:,7].values), pd.DataFrame(beta_results)], axis=1, ignore_index=True)\n",
    "sigma_beta_df = sigma_beta_df.rename(columns={0:'Sigma',1:'Beta'})\n",
    "sigma_beta_df"
   ],
   "outputs": [
    {
     "data": {
      "text/plain": [
       "     Sigma          Beta\n",
       "0   0.2250  3.195608e-08\n",
       "1   0.2872  3.142889e-13\n",
       "2   0.2978  3.891706e-07\n",
       "3   0.2607  2.418872e-06\n",
       "4   0.2447  6.655326e-06\n",
       "5   0.2726  9.851157e-07\n",
       "6   0.2983  6.314974e-08\n",
       "7   0.2998  2.277158e-06\n",
       "8   0.2660  1.432547e-04\n",
       "9   0.2451  5.546197e-02\n",
       "10  0.2854  1.394942e-07\n",
       "11  0.2928  7.488150e-06\n",
       "12  0.2940  8.153753e-05\n",
       "13  0.2674  1.387410e-06\n",
       "14  0.2437  1.744423e-03"
      ],
      "text/html": [
       "<div>\n",
       "<style scoped>\n",
       "    .dataframe tbody tr th:only-of-type {\n",
       "        vertical-align: middle;\n",
       "    }\n",
       "\n",
       "    .dataframe tbody tr th {\n",
       "        vertical-align: top;\n",
       "    }\n",
       "\n",
       "    .dataframe thead th {\n",
       "        text-align: right;\n",
       "    }\n",
       "</style>\n",
       "<table border=\"1\" class=\"dataframe\">\n",
       "  <thead>\n",
       "    <tr style=\"text-align: right;\">\n",
       "      <th></th>\n",
       "      <th>Sigma</th>\n",
       "      <th>Beta</th>\n",
       "    </tr>\n",
       "  </thead>\n",
       "  <tbody>\n",
       "    <tr>\n",
       "      <th>0</th>\n",
       "      <td>0.2250</td>\n",
       "      <td>3.195608e-08</td>\n",
       "    </tr>\n",
       "    <tr>\n",
       "      <th>1</th>\n",
       "      <td>0.2872</td>\n",
       "      <td>3.142889e-13</td>\n",
       "    </tr>\n",
       "    <tr>\n",
       "      <th>2</th>\n",
       "      <td>0.2978</td>\n",
       "      <td>3.891706e-07</td>\n",
       "    </tr>\n",
       "    <tr>\n",
       "      <th>3</th>\n",
       "      <td>0.2607</td>\n",
       "      <td>2.418872e-06</td>\n",
       "    </tr>\n",
       "    <tr>\n",
       "      <th>4</th>\n",
       "      <td>0.2447</td>\n",
       "      <td>6.655326e-06</td>\n",
       "    </tr>\n",
       "    <tr>\n",
       "      <th>5</th>\n",
       "      <td>0.2726</td>\n",
       "      <td>9.851157e-07</td>\n",
       "    </tr>\n",
       "    <tr>\n",
       "      <th>6</th>\n",
       "      <td>0.2983</td>\n",
       "      <td>6.314974e-08</td>\n",
       "    </tr>\n",
       "    <tr>\n",
       "      <th>7</th>\n",
       "      <td>0.2998</td>\n",
       "      <td>2.277158e-06</td>\n",
       "    </tr>\n",
       "    <tr>\n",
       "      <th>8</th>\n",
       "      <td>0.2660</td>\n",
       "      <td>1.432547e-04</td>\n",
       "    </tr>\n",
       "    <tr>\n",
       "      <th>9</th>\n",
       "      <td>0.2451</td>\n",
       "      <td>5.546197e-02</td>\n",
       "    </tr>\n",
       "    <tr>\n",
       "      <th>10</th>\n",
       "      <td>0.2854</td>\n",
       "      <td>1.394942e-07</td>\n",
       "    </tr>\n",
       "    <tr>\n",
       "      <th>11</th>\n",
       "      <td>0.2928</td>\n",
       "      <td>7.488150e-06</td>\n",
       "    </tr>\n",
       "    <tr>\n",
       "      <th>12</th>\n",
       "      <td>0.2940</td>\n",
       "      <td>8.153753e-05</td>\n",
       "    </tr>\n",
       "    <tr>\n",
       "      <th>13</th>\n",
       "      <td>0.2674</td>\n",
       "      <td>1.387410e-06</td>\n",
       "    </tr>\n",
       "    <tr>\n",
       "      <th>14</th>\n",
       "      <td>0.2437</td>\n",
       "      <td>1.744423e-03</td>\n",
       "    </tr>\n",
       "  </tbody>\n",
       "</table>\n",
       "</div>"
      ]
     },
     "execution_count": 15,
     "metadata": {},
     "output_type": "execute_result"
    }
   ],
   "execution_count": 15
  },
  {
   "cell_type": "markdown",
   "id": "f30ce1af5e2a13ca",
   "metadata": {},
   "source": [
    "# Compute SABR Model"
   ]
  },
  {
   "cell_type": "code",
   "id": "f37b96c40d05d1c0",
   "metadata": {
    "ExecuteTime": {
     "end_time": "2024-04-10T17:10:03.385658Z",
     "start_time": "2024-04-10T17:10:03.357238Z"
    }
   },
   "source": [
    "def SABR(F, K, T, alpha, rho, nu, beta):\n",
    "    X = K\n",
    "    # if K is at-the-money-forward\n",
    "    if abs(F - K) < 1e-12:\n",
    "        numer1 = (((1 - beta)**2)/24)*alpha*alpha/(F**(2 - 2*beta))\n",
    "        numer2 = 0.25*rho*beta*nu*alpha/(F**(1 - beta))\n",
    "        numer3 = ((2 - 3*rho*rho)/24)*nu*nu\n",
    "        VolAtm = alpha*(1 + (numer1 + numer2 + numer3)*T)/(F**(1-beta))\n",
    "        sabr_sigma = VolAtm\n",
    "    else:\n",
    "        z = (nu/alpha)*((F*X)**(0.5*(1-beta)))*np.log(F/X)\n",
    "        zhi = np.log((((1 - 2*rho*z + z*z)**0.5) + z - rho)/(1 - rho))\n",
    "        numer1 = (((1 - beta)**2)/24)*((alpha*alpha)/((F*X)**(1 - beta)))\n",
    "        numer2 = 0.25*rho*beta*nu*alpha/((F*X)**((1 - beta)/2))\n",
    "        numer3 = ((2 - 3*rho*rho)/24)*nu*nu\n",
    "        numer = alpha*(1 + (numer1 + numer2 + numer3)*T)*z\n",
    "        denom1 = ((1 - beta)**2/24)*(np.log(F/X))**2\n",
    "        denom2 = (((1 - beta)**4)/1920)*((np.log(F/X))**4)\n",
    "        denom = ((F*X)**((1 - beta)/2))*(1 + denom1 + denom2)*zhi\n",
    "        sabr_sigma = numer/denom\n",
    "\n",
    "    return sabr_sigma"
   ],
   "outputs": [],
   "execution_count": 16
  },
  {
   "cell_type": "code",
   "id": "1df150581aaf2888",
   "metadata": {
    "ExecuteTime": {
     "end_time": "2024-04-10T17:10:03.401604Z",
     "start_time": "2024-04-10T17:10:03.391638Z"
    }
   },
   "source": [
    "def sabr_calibration(F, strikes, T, market_vol, x, beta):\n",
    "    err = 0.0\n",
    "    for vol,K in zip(market_vol, strikes):\n",
    "        err += (vol - SABR(F, K, T, x[0], x[1], x[2], beta))**2\n",
    "    return err"
   ],
   "outputs": [],
   "execution_count": 17
  },
  {
   "cell_type": "code",
   "id": "e22e99b9428f02f4",
   "metadata": {
    "ExecuteTime": {
     "end_time": "2024-04-10T17:10:10.857391Z",
     "start_time": "2024-04-10T17:10:03.404632Z"
    }
   },
   "source": [
    "start = date_count_df.Start\n",
    "tenor = date_count_df.Tenor\n",
    "\n",
    "alpha_results = []\n",
    "rho_results = []\n",
    "nu_results = []\n",
    "\n",
    "initial_guess = [0.1,-0.1,0.1]\n",
    "\n",
    "for i in range(len(pvbp)):\n",
    "    results = least_squares(lambda x: sabr_calibration(libor_forward_rate[i], strike[i], int(start[i]), swaption_data.values[i][2:], x, 0.9), initial_guess, bounds = ([0.0,-1.0,0.0], [np.inf, 1, np.inf]))\n",
    "\n",
    "    alpha_results.append(results.x[0])\n",
    "    rho_results.append(results.x[1])\n",
    "    nu_results.append(results.x[2])\n",
    "\n",
    "\n",
    "sabr_calibration_df = pd.concat([pd.DataFrame(alpha_results, columns=['Alpha']),pd.DataFrame(rho_results, columns=['Rho']),pd.DataFrame(nu_results, columns=['Nu'])], axis=1)\n",
    "\n",
    "sabr_calibration_df"
   ],
   "outputs": [
    {
     "data": {
      "text/plain": [
       "       Alpha       Rho        Nu\n",
       "0   0.139065 -0.633248  2.049566\n",
       "1   0.184646 -0.525118  1.677438\n",
       "2   0.196851 -0.482847  1.438131\n",
       "3   0.178046 -0.414397  1.064941\n",
       "4   0.171009 -0.264055  0.778717\n",
       "5   0.166505 -0.585049  1.339434\n",
       "6   0.199232 -0.545653  1.061047\n",
       "7   0.209696 -0.547185  0.935995\n",
       "8   0.187755 -0.490747  0.681123\n",
       "9   0.172283 -0.387881  0.525583\n",
       "10  0.176260 -0.541216  1.002040\n",
       "11  0.194721 -0.542617  0.923728\n",
       "12  0.202340 -0.537400  0.857978\n",
       "13  0.189969 -0.525370  0.711676\n",
       "14  0.181609 -0.513941  0.576788"
      ],
      "text/html": [
       "<div>\n",
       "<style scoped>\n",
       "    .dataframe tbody tr th:only-of-type {\n",
       "        vertical-align: middle;\n",
       "    }\n",
       "\n",
       "    .dataframe tbody tr th {\n",
       "        vertical-align: top;\n",
       "    }\n",
       "\n",
       "    .dataframe thead th {\n",
       "        text-align: right;\n",
       "    }\n",
       "</style>\n",
       "<table border=\"1\" class=\"dataframe\">\n",
       "  <thead>\n",
       "    <tr style=\"text-align: right;\">\n",
       "      <th></th>\n",
       "      <th>Alpha</th>\n",
       "      <th>Rho</th>\n",
       "      <th>Nu</th>\n",
       "    </tr>\n",
       "  </thead>\n",
       "  <tbody>\n",
       "    <tr>\n",
       "      <th>0</th>\n",
       "      <td>0.139065</td>\n",
       "      <td>-0.633248</td>\n",
       "      <td>2.049566</td>\n",
       "    </tr>\n",
       "    <tr>\n",
       "      <th>1</th>\n",
       "      <td>0.184646</td>\n",
       "      <td>-0.525118</td>\n",
       "      <td>1.677438</td>\n",
       "    </tr>\n",
       "    <tr>\n",
       "      <th>2</th>\n",
       "      <td>0.196851</td>\n",
       "      <td>-0.482847</td>\n",
       "      <td>1.438131</td>\n",
       "    </tr>\n",
       "    <tr>\n",
       "      <th>3</th>\n",
       "      <td>0.178046</td>\n",
       "      <td>-0.414397</td>\n",
       "      <td>1.064941</td>\n",
       "    </tr>\n",
       "    <tr>\n",
       "      <th>4</th>\n",
       "      <td>0.171009</td>\n",
       "      <td>-0.264055</td>\n",
       "      <td>0.778717</td>\n",
       "    </tr>\n",
       "    <tr>\n",
       "      <th>5</th>\n",
       "      <td>0.166505</td>\n",
       "      <td>-0.585049</td>\n",
       "      <td>1.339434</td>\n",
       "    </tr>\n",
       "    <tr>\n",
       "      <th>6</th>\n",
       "      <td>0.199232</td>\n",
       "      <td>-0.545653</td>\n",
       "      <td>1.061047</td>\n",
       "    </tr>\n",
       "    <tr>\n",
       "      <th>7</th>\n",
       "      <td>0.209696</td>\n",
       "      <td>-0.547185</td>\n",
       "      <td>0.935995</td>\n",
       "    </tr>\n",
       "    <tr>\n",
       "      <th>8</th>\n",
       "      <td>0.187755</td>\n",
       "      <td>-0.490747</td>\n",
       "      <td>0.681123</td>\n",
       "    </tr>\n",
       "    <tr>\n",
       "      <th>9</th>\n",
       "      <td>0.172283</td>\n",
       "      <td>-0.387881</td>\n",
       "      <td>0.525583</td>\n",
       "    </tr>\n",
       "    <tr>\n",
       "      <th>10</th>\n",
       "      <td>0.176260</td>\n",
       "      <td>-0.541216</td>\n",
       "      <td>1.002040</td>\n",
       "    </tr>\n",
       "    <tr>\n",
       "      <th>11</th>\n",
       "      <td>0.194721</td>\n",
       "      <td>-0.542617</td>\n",
       "      <td>0.923728</td>\n",
       "    </tr>\n",
       "    <tr>\n",
       "      <th>12</th>\n",
       "      <td>0.202340</td>\n",
       "      <td>-0.537400</td>\n",
       "      <td>0.857978</td>\n",
       "    </tr>\n",
       "    <tr>\n",
       "      <th>13</th>\n",
       "      <td>0.189969</td>\n",
       "      <td>-0.525370</td>\n",
       "      <td>0.711676</td>\n",
       "    </tr>\n",
       "    <tr>\n",
       "      <th>14</th>\n",
       "      <td>0.181609</td>\n",
       "      <td>-0.513941</td>\n",
       "      <td>0.576788</td>\n",
       "    </tr>\n",
       "  </tbody>\n",
       "</table>\n",
       "</div>"
      ]
     },
     "execution_count": 18,
     "metadata": {},
     "output_type": "execute_result"
    }
   ],
   "execution_count": 18
  },
  {
   "cell_type": "markdown",
   "id": "16e5817a4f1ede6b",
   "metadata": {},
   "source": [
    "### Find Libor Forward Swap (2x10) and (8x10)"
   ]
  },
  {
   "cell_type": "code",
   "id": "cf30f716d7a530ea",
   "metadata": {
    "ExecuteTime": {
     "end_time": "2024-04-10T17:10:10.888320Z",
     "start_time": "2024-04-10T17:10:10.859493Z"
    }
   },
   "source": [
    "forward_swaps_2x10_8x10 = \\\n",
    "    [(2,10, 0.039634),\n",
    "     (8,10, 0.048711)]\n",
    "\n",
    "forward_swaps_df_2x10_8x10 = pd.DataFrame(columns=[\"Start\",\"Tenor\",\"liborForwardSwapRate\"])\n",
    "rows_list_part_2 = []\n",
    "\n",
    "for swap_combination in forward_swaps_2x10_8x10:\n",
    "    swap_start_special = swap_combination[0]\n",
    "    swap_tenor_special = swap_combination[1]\n",
    "    swap_rate_special = swap_combination[2]\n",
    "    new_row = pd.DataFrame({'Start':[str(swap_start_special)+\"Y\"], 'Tenor':[str(swap_tenor_special)+\"Y\"], 'liborForwardSwapRate':[swap_rate_special]})\n",
    "    rows_list_part_2.append(new_row)\n",
    "\n",
    "forward_swaps_df_2x10_8x10 = pd.concat(rows_list_part_2, ignore_index=True)\n",
    "forward_swaps_df_2x10_8x10"
   ],
   "outputs": [
    {
     "data": {
      "text/plain": [
       "  Start Tenor  liborForwardSwapRate\n",
       "0    2Y   10Y              0.039634\n",
       "1    8Y   10Y              0.048711"
      ],
      "text/html": [
       "<div>\n",
       "<style scoped>\n",
       "    .dataframe tbody tr th:only-of-type {\n",
       "        vertical-align: middle;\n",
       "    }\n",
       "\n",
       "    .dataframe tbody tr th {\n",
       "        vertical-align: top;\n",
       "    }\n",
       "\n",
       "    .dataframe thead th {\n",
       "        text-align: right;\n",
       "    }\n",
       "</style>\n",
       "<table border=\"1\" class=\"dataframe\">\n",
       "  <thead>\n",
       "    <tr style=\"text-align: right;\">\n",
       "      <th></th>\n",
       "      <th>Start</th>\n",
       "      <th>Tenor</th>\n",
       "      <th>liborForwardSwapRate</th>\n",
       "    </tr>\n",
       "  </thead>\n",
       "  <tbody>\n",
       "    <tr>\n",
       "      <th>0</th>\n",
       "      <td>2Y</td>\n",
       "      <td>10Y</td>\n",
       "      <td>0.039634</td>\n",
       "    </tr>\n",
       "    <tr>\n",
       "      <th>1</th>\n",
       "      <td>8Y</td>\n",
       "      <td>10Y</td>\n",
       "      <td>0.048711</td>\n",
       "    </tr>\n",
       "  </tbody>\n",
       "</table>\n",
       "</div>"
      ]
     },
     "execution_count": 19,
     "metadata": {},
     "output_type": "execute_result"
    }
   ],
   "execution_count": 19
  },
  {
   "cell_type": "markdown",
   "id": "8bab7f5211b61468",
   "metadata": {},
   "source": [
    "### Pricing swaption with DD and SABR model"
   ]
  },
  {
   "cell_type": "code",
   "id": "f3eed384839a9ec5",
   "metadata": {
    "ExecuteTime": {
     "end_time": "2024-04-10T17:10:10.903270Z",
     "start_time": "2024-04-10T17:10:10.890313Z"
    }
   },
   "source": [
    "payer_swaption_strikes = [0.01,0.02,0.03,0.04,0.05,0.06,0.07,0.08]\n",
    "receiver_swaption_strikes = [0.01,0.02,0.03,0.04,0.05,0.06,0.07,0.08]\n",
    "payer_expiry = 2\n",
    "payer_tenor = 10\n",
    "receiver_expiry = 8\n",
    "receiver_tenor = 10\n",
    "\n",
    "#Calculated from discount factors\n",
    "payer_forward = forward_swaps_df_2x10_8x10['liborForwardSwapRate'][0]\n",
    "receiver_forward = forward_swaps_df_2x10_8x10['liborForwardSwapRate'][1]"
   ],
   "outputs": [],
   "execution_count": 20
  },
  {
   "cell_type": "markdown",
   "id": "69a0d6836914fae9",
   "metadata": {},
   "source": [
    "### Data interpolation"
   ]
  },
  {
   "cell_type": "code",
   "id": "42f38f74ef6c04f8",
   "metadata": {
    "ExecuteTime": {
     "end_time": "2024-04-10T17:10:10.950651Z",
     "start_time": "2024-04-10T17:10:10.905263Z"
    }
   },
   "source": [
    "#Interpolate the calibrated parameters\n",
    "expiries = np.array([1, 5, 10])\n",
    "tenors = np.array([1, 2, 3, 5, 10])\n",
    "DD_sigma = [list(sigma_beta_df.iloc[0:5,0].values),list(sigma_beta_df.iloc[5:10,0].values),list(sigma_beta_df.iloc[10:15,0].values)]\n",
    "DD_Beta = [list(sigma_beta_df.iloc[0:5,1].values),list(sigma_beta_df.iloc[5:10,1].values),list(sigma_beta_df.iloc[10:15,1].values)]\n",
    "SABR_alpha = [list(sabr_calibration_df.iloc[0:5,0].values),list(sabr_calibration_df.iloc[5:10,0].values),list(sabr_calibration_df.iloc[10:15,0].values)]\n",
    "SABR_rho = [list(sabr_calibration_df.iloc[0:5,1].values),list(sabr_calibration_df.iloc[5:10,1].values),list(sabr_calibration_df.iloc[10:15,1].values)]\n",
    "SABR_nu = [list(sabr_calibration_df.iloc[0:5,2].values),list(sabr_calibration_df.iloc[5:10,2].values),list(sabr_calibration_df.iloc[10:15,2].values)]\n",
    "\n",
    "\n",
    "#beta and sigma\n",
    "def interpolate_dd_parameters(t, e, tenors, expiries):\n",
    "    f_linear_beta = interp2d(tenors, expiries, DD_Beta, kind='linear')\n",
    "    f_linear_sigma = interp2d(tenors, expiries, DD_sigma, kind='linear')\n",
    "    interpolated_beta_linear = f_linear_beta(t, e)\n",
    "    interpolated_sigma_linear = f_linear_sigma(t, e)\n",
    "\n",
    "    return interpolated_beta_linear[0], interpolated_sigma_linear[0]\n",
    "\n",
    "#alpha, rho and nu\n",
    "def interpolate_sabr_parameters(t, e, tenors, expiries):\n",
    "    f_linear_alpha = interp2d(tenors, expiries, SABR_alpha, kind='linear')\n",
    "    f_linear_rho = interp2d(tenors, expiries, SABR_rho, kind='linear')\n",
    "    f_linear_nu = interp2d(tenors, expiries, SABR_nu, kind='linear')\n",
    "    interpolated_alpha_linear = f_linear_alpha(t, e)\n",
    "    interpolated_rho_linear = f_linear_rho(t, e)\n",
    "    interpolated_nu_linear = f_linear_nu(t, e)\n",
    "\n",
    "    return interpolated_alpha_linear[0], interpolated_rho_linear[0], interpolated_nu_linear[0]\n",
    "\n",
    "DD_Beta"
   ],
   "outputs": [
    {
     "data": {
      "text/plain": [
       "[[3.1956079337390475e-08,\n",
       "  3.142889462060772e-13,\n",
       "  3.8917060966600223e-07,\n",
       "  2.418872081806822e-06,\n",
       "  6.6553260105834885e-06],\n",
       " [9.851156869647574e-07,\n",
       "  6.31497354742053e-08,\n",
       "  2.2771584741820925e-06,\n",
       "  0.0001432546507178509,\n",
       "  0.05546197005976203],\n",
       " [1.3949423753015396e-07,\n",
       "  7.488150489023309e-06,\n",
       "  8.153753205824166e-05,\n",
       "  1.3874103128126355e-06,\n",
       "  0.0017444231220399044]]"
      ]
     },
     "execution_count": 21,
     "metadata": {},
     "output_type": "execute_result"
    }
   ],
   "execution_count": 21
  },
  {
   "cell_type": "markdown",
   "id": "f5869ddcab5a7397",
   "metadata": {},
   "source": [
    "### Payer Swaption"
   ]
  },
  {
   "cell_type": "code",
   "id": "731f458e964a9880",
   "metadata": {
    "ExecuteTime": {
     "end_time": "2024-04-10T17:10:10.966687Z",
     "start_time": "2024-04-10T17:10:10.952645Z"
    }
   },
   "source": [
    "beta, sigma = interpolate_dd_parameters(10, 2, tenors, expiries)\n",
    "alpha, rho, nu = interpolate_sabr_parameters(10, 2, tenors, expiries)"
   ],
   "outputs": [],
   "execution_count": 22
  },
  {
   "cell_type": "code",
   "id": "a495f10860ddd8c8",
   "metadata": {
    "ExecuteTime": {
     "end_time": "2024-04-10T17:10:11.030518Z",
     "start_time": "2024-04-10T17:10:10.997628Z"
    }
   },
   "source": [
    "payer = pd.DataFrame(index=payer_swaption_strikes,columns=['DD Price', 'SABR Price'])\n",
    "present_value_2_10 = 0.5 * sum(ois_disc_factor[2*int(2): (int(2)+int(10))*2])\n",
    "\n",
    "for K in payer_swaption_strikes:\n",
    "    payer.loc[K]['DD Price'] = calculateDDCall(payer_forward, K, 2, present_value_2_10, sigma, beta)\n",
    "\n",
    "for K in payer_swaption_strikes:\n",
    "    SABR_vol = SABR(payer_forward, K, 2, alpha, rho, nu, 0.9)\n",
    "    payer.loc[K]['SABR Price'] = calculateBlackCall(payer_forward, K, 2, SABR_vol, present_value_2_10)"
   ],
   "outputs": [],
   "execution_count": 24
  },
  {
   "cell_type": "code",
   "id": "aa8d943554aa23b8",
   "metadata": {
    "ExecuteTime": {
     "end_time": "2024-04-10T17:10:11.065401Z",
     "start_time": "2024-04-10T17:10:11.038492Z"
    }
   },
   "source": [
    "payer.index.names = ['Strike (%)']\n",
    "payer"
   ],
   "outputs": [
    {
     "data": {
      "text/plain": [
       "            DD Price SABR Price\n",
       "Strike (%)                     \n",
       "0.01         0.28886    0.29035\n",
       "0.02        0.195421   0.198782\n",
       "0.03        0.112604   0.115315\n",
       "0.04        0.051471    0.05208\n",
       "0.05        0.017408   0.021508\n",
       "0.06        0.004116   0.010998\n",
       "0.07        0.000653    0.00689\n",
       "0.08        0.000068   0.004892"
      ],
      "text/html": [
       "<div>\n",
       "<style scoped>\n",
       "    .dataframe tbody tr th:only-of-type {\n",
       "        vertical-align: middle;\n",
       "    }\n",
       "\n",
       "    .dataframe tbody tr th {\n",
       "        vertical-align: top;\n",
       "    }\n",
       "\n",
       "    .dataframe thead th {\n",
       "        text-align: right;\n",
       "    }\n",
       "</style>\n",
       "<table border=\"1\" class=\"dataframe\">\n",
       "  <thead>\n",
       "    <tr style=\"text-align: right;\">\n",
       "      <th></th>\n",
       "      <th>DD Price</th>\n",
       "      <th>SABR Price</th>\n",
       "    </tr>\n",
       "    <tr>\n",
       "      <th>Strike (%)</th>\n",
       "      <th></th>\n",
       "      <th></th>\n",
       "    </tr>\n",
       "  </thead>\n",
       "  <tbody>\n",
       "    <tr>\n",
       "      <th>0.01</th>\n",
       "      <td>0.28886</td>\n",
       "      <td>0.29035</td>\n",
       "    </tr>\n",
       "    <tr>\n",
       "      <th>0.02</th>\n",
       "      <td>0.195421</td>\n",
       "      <td>0.198782</td>\n",
       "    </tr>\n",
       "    <tr>\n",
       "      <th>0.03</th>\n",
       "      <td>0.112604</td>\n",
       "      <td>0.115315</td>\n",
       "    </tr>\n",
       "    <tr>\n",
       "      <th>0.04</th>\n",
       "      <td>0.051471</td>\n",
       "      <td>0.05208</td>\n",
       "    </tr>\n",
       "    <tr>\n",
       "      <th>0.05</th>\n",
       "      <td>0.017408</td>\n",
       "      <td>0.021508</td>\n",
       "    </tr>\n",
       "    <tr>\n",
       "      <th>0.06</th>\n",
       "      <td>0.004116</td>\n",
       "      <td>0.010998</td>\n",
       "    </tr>\n",
       "    <tr>\n",
       "      <th>0.07</th>\n",
       "      <td>0.000653</td>\n",
       "      <td>0.00689</td>\n",
       "    </tr>\n",
       "    <tr>\n",
       "      <th>0.08</th>\n",
       "      <td>0.000068</td>\n",
       "      <td>0.004892</td>\n",
       "    </tr>\n",
       "  </tbody>\n",
       "</table>\n",
       "</div>"
      ]
     },
     "execution_count": 25,
     "metadata": {},
     "output_type": "execute_result"
    }
   ],
   "execution_count": 25
  },
  {
   "cell_type": "markdown",
   "id": "658f4b45959371c9",
   "metadata": {},
   "source": [
    "### Receiver Swaption"
   ]
  },
  {
   "cell_type": "code",
   "id": "e18db2ce629a74be",
   "metadata": {
    "ExecuteTime": {
     "end_time": "2024-04-10T17:10:11.079357Z",
     "start_time": "2024-04-10T17:10:11.068394Z"
    }
   },
   "source": [
    "beta_10, sigma_10 = interpolate_dd_parameters(10, 8, tenors, expiries)\n",
    "alpha_10, rho_10, nu_10 = interpolate_sabr_parameters(10, 8, tenors, expiries)\n",
    "\n",
    "beta_10"
   ],
   "outputs": [
    {
     "data": {
      "text/plain": [
       "0.023231441897128755"
      ]
     },
     "execution_count": 26,
     "metadata": {},
     "output_type": "execute_result"
    }
   ],
   "execution_count": 26
  },
  {
   "cell_type": "code",
   "id": "e4a0c85deb1b4f61",
   "metadata": {
    "ExecuteTime": {
     "end_time": "2024-04-10T17:10:11.124080Z",
     "start_time": "2024-04-10T17:10:11.091827Z"
    }
   },
   "source": [
    "receiver = pd.DataFrame(index=payer_swaption_strikes,columns=['DD Price', 'SABR Price'])\n",
    "present_value_8_10 = 0.5 * sum(ois_disc_factor[2*int(8): (int(8)+int(10))*2])\n",
    "\n",
    "for K in receiver_swaption_strikes:\n",
    "    receiver.loc[K]['DD Price'] = calculateDDPut(payer_forward, K, 8, present_value_8_10, sigma_10, beta_10)\n",
    "\n",
    "for K in receiver_swaption_strikes:\n",
    "    SABR_vol = SABR(payer_forward, K, 2, alpha, rho, nu, 0.9)\n",
    "    receiver.loc[K]['SABR Price'] = calculateBlackPut(payer_forward, K, 8, SABR_vol, present_value_8_10)"
   ],
   "outputs": [],
   "execution_count": 27
  },
  {
   "cell_type": "code",
   "id": "45e40c304e64865b",
   "metadata": {
    "ExecuteTime": {
     "end_time": "2024-04-10T17:10:11.155974Z",
     "start_time": "2024-04-10T17:10:11.128066Z"
    }
   },
   "source": [
    "receiver.index.names = ['Strike (%)']\n",
    "receiver"
   ],
   "outputs": [
    {
     "data": {
      "text/plain": [
       "            DD Price SABR Price\n",
       "Strike (%)                     \n",
       "0.01        0.017801   0.025094\n",
       "0.02        0.035281   0.044731\n",
       "0.03        0.063444   0.067738\n",
       "0.04         0.10446   0.104293\n",
       "0.05        0.159021   0.167221\n",
       "0.06         0.22611   0.249104\n",
       "0.07        0.303393   0.338007\n",
       "0.08        0.387989   0.429509"
      ],
      "text/html": [
       "<div>\n",
       "<style scoped>\n",
       "    .dataframe tbody tr th:only-of-type {\n",
       "        vertical-align: middle;\n",
       "    }\n",
       "\n",
       "    .dataframe tbody tr th {\n",
       "        vertical-align: top;\n",
       "    }\n",
       "\n",
       "    .dataframe thead th {\n",
       "        text-align: right;\n",
       "    }\n",
       "</style>\n",
       "<table border=\"1\" class=\"dataframe\">\n",
       "  <thead>\n",
       "    <tr style=\"text-align: right;\">\n",
       "      <th></th>\n",
       "      <th>DD Price</th>\n",
       "      <th>SABR Price</th>\n",
       "    </tr>\n",
       "    <tr>\n",
       "      <th>Strike (%)</th>\n",
       "      <th></th>\n",
       "      <th></th>\n",
       "    </tr>\n",
       "  </thead>\n",
       "  <tbody>\n",
       "    <tr>\n",
       "      <th>0.01</th>\n",
       "      <td>0.017801</td>\n",
       "      <td>0.025094</td>\n",
       "    </tr>\n",
       "    <tr>\n",
       "      <th>0.02</th>\n",
       "      <td>0.035281</td>\n",
       "      <td>0.044731</td>\n",
       "    </tr>\n",
       "    <tr>\n",
       "      <th>0.03</th>\n",
       "      <td>0.063444</td>\n",
       "      <td>0.067738</td>\n",
       "    </tr>\n",
       "    <tr>\n",
       "      <th>0.04</th>\n",
       "      <td>0.10446</td>\n",
       "      <td>0.104293</td>\n",
       "    </tr>\n",
       "    <tr>\n",
       "      <th>0.05</th>\n",
       "      <td>0.159021</td>\n",
       "      <td>0.167221</td>\n",
       "    </tr>\n",
       "    <tr>\n",
       "      <th>0.06</th>\n",
       "      <td>0.22611</td>\n",
       "      <td>0.249104</td>\n",
       "    </tr>\n",
       "    <tr>\n",
       "      <th>0.07</th>\n",
       "      <td>0.303393</td>\n",
       "      <td>0.338007</td>\n",
       "    </tr>\n",
       "    <tr>\n",
       "      <th>0.08</th>\n",
       "      <td>0.387989</td>\n",
       "      <td>0.429509</td>\n",
       "    </tr>\n",
       "  </tbody>\n",
       "</table>\n",
       "</div>"
      ]
     },
     "execution_count": 28,
     "metadata": {},
     "output_type": "execute_result"
    }
   ],
   "execution_count": 28
  },
  {
   "cell_type": "markdown",
   "id": "e16cbd3cf1763143",
   "metadata": {},
   "source": [
    "### Export Datasets"
   ]
  },
  {
   "cell_type": "code",
   "id": "7ab9487da407c662",
   "metadata": {
    "ExecuteTime": {
     "end_time": "2024-04-10T17:10:11.346538Z",
     "start_time": "2024-04-10T17:10:11.158963Z"
    }
   },
   "source": [
    "# with pd.ExcelWriter(\"Data_2_Output.xlsx\") as writer:\n",
    "#     pd.concat([date_count_df,pd.DataFrame(pvbp, columns=['PVBP'])], axis=1).to_excel(writer, sheet_name='PVBP',index=True)\n",
    "#     pd.concat([date_count_df,sabr_calibration_df], axis=1).to_excel(writer, sheet_name='SABR_Results',index=True)\n",
    "#     pd.concat([date_count_df,sigma_beta_df], axis=1).to_excel(writer, sheet_name='DD_Results',index=True)"
   ],
   "outputs": [],
   "execution_count": 29
  },
  {
   "cell_type": "code",
   "id": "3bc5ac34af04b7c9",
   "metadata": {
    "ExecuteTime": {
     "end_time": "2024-04-10T17:10:11.411097Z",
     "start_time": "2024-04-10T17:10:11.351774Z"
    }
   },
   "source": [
    "# with pd.ExcelWriter(\"Data_3_Output.xlsx\") as writer:\n",
    "#     payer.to_excel(writer, sheet_name='Payer_Swaption',index=True)\n",
    "#     receiver.to_excel(writer, sheet_name='Receiver_Swaption',index=True)"
   ],
   "outputs": [],
   "execution_count": 30
  }
 ],
 "metadata": {
  "kernelspec": {
   "display_name": "Python 3 (ipykernel)",
   "language": "python",
   "name": "python3"
  },
  "language_info": {
   "codemirror_mode": {
    "name": "ipython",
    "version": 3
   },
   "file_extension": ".py",
   "mimetype": "text/x-python",
   "name": "python",
   "nbconvert_exporter": "python",
   "pygments_lexer": "ipython3",
   "version": "3.11.3"
  }
 },
 "nbformat": 4,
 "nbformat_minor": 5
}
